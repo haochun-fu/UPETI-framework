{
 "cells": [
  {
   "cell_type": "code",
   "execution_count": 1,
   "metadata": {
    "collapsed": false
   },
   "outputs": [],
   "source": [
    "%matplotlib inline"
   ]
  },
  {
   "cell_type": "code",
   "execution_count": 2,
   "metadata": {
    "collapsed": false
   },
   "outputs": [],
   "source": [
    "import json\n",
    "import os\n",
    "import sqlite3\n",
    "import sys\n",
    "import pickle\n",
    "import numpy as np\n",
    "import pandas as pd"
   ]
  },
  {
   "cell_type": "code",
   "execution_count": 3,
   "metadata": {
    "collapsed": false
   },
   "outputs": [],
   "source": [
    "TP_file = 'train_triplets.txt'\n",
    "md_dbfile = 'track_metadata.db'"
   ]
  },
  {
   "cell_type": "code",
   "execution_count": 4,
   "metadata": {
    "collapsed": false
   },
   "outputs": [],
   "source": [
    "tp = pd.read_table(TP_file, header=None, names=['uid', 'sid', 'count'])"
   ]
  },
  {
   "cell_type": "code",
   "execution_count": 5,
   "metadata": {
    "collapsed": false
   },
   "outputs": [],
   "source": [
    "MIN_USER_COUNT = 20\n",
    "MIN_SONG_COUNT = 50"
   ]
  },
  {
   "cell_type": "markdown",
   "metadata": {},
   "source": [
    "### Keep play counts that involve only usable tracks"
   ]
  },
  {
   "cell_type": "code",
   "execution_count": 7,
   "metadata": {
    "collapsed": false
   },
   "outputs": [],
   "source": [
    "# tid2sid.json contains a mapping between track id and song id, which can obtained from track_metadata.db\n",
    "with open('tid2sid.json', 'r') as f:\n",
    "    tid2sid = json.load(f)"
   ]
  },
  {
   "cell_type": "code",
   "execution_count": 8,
   "metadata": {
    "collapsed": true
   },
   "outputs": [],
   "source": [
    "bad_audio = []\n",
    "\n",
    "with open('tracks_bad_audio.txt', 'r') as f:\n",
    "    for line in f:\n",
    "        bad_audio.append(line.strip())"
   ]
  },
  {
   "cell_type": "code",
   "execution_count": 9,
   "metadata": {
    "collapsed": true
   },
   "outputs": [],
   "source": [
    "bad_sid = [tid2sid[k] for k in bad_audio]"
   ]
  },
  {
   "cell_type": "code",
   "execution_count": 10,
   "metadata": {
    "collapsed": false
   },
   "outputs": [],
   "source": [
    "def filter_usable_tracks(tp, bad_sid):\n",
    "    return tp[~tp['sid'].isin(bad_sid)]\n",
    "\n",
    "tp_good = filter_usable_tracks(tp, bad_sid)"
   ]
  },
  {
   "cell_type": "code",
   "execution_count": 11,
   "metadata": {
    "collapsed": false
   },
   "outputs": [
    {
     "name": "stdout",
     "output_type": "stream",
     "text": [
      "46968690 playcount triplets are kept out of 48373586\n"
     ]
    }
   ],
   "source": [
    "print '%d playcount triplets are kept out of %d'% (len(tp_good), len(tp))"
   ]
  },
  {
   "cell_type": "markdown",
   "metadata": {},
   "source": [
    "### Further filter out counts invoving inactive users & songs"
   ]
  },
  {
   "cell_type": "code",
   "execution_count": 12,
   "metadata": {
    "collapsed": false
   },
   "outputs": [],
   "source": [
    "def get_count(tp, id):\n",
    "    playcount_groupbyid = tp[[id, 'count']].groupby(id, as_index=False)\n",
    "    count = playcount_groupbyid.size()\n",
    "    return count\n",
    "\n",
    "def remove_inactive(tp, min_uc=MIN_USER_COUNT, min_sc=MIN_SONG_COUNT):\n",
    "    # Only keep the triplets for songs which were listened to by at least min_sc users. \n",
    "    songcount = get_count(tp, 'sid')\n",
    "    tp = tp[tp['sid'].isin(songcount.index[songcount >= min_sc])]\n",
    "    \n",
    "    # Only keep the triplets for users who listened to at least min_uc songs\n",
    "    # After doing this, some of the songs will have less than min_uc users, but should only be a small proportion\n",
    "    usercount = get_count(tp, 'uid')\n",
    "    tp = tp[tp['uid'].isin(usercount.index[usercount >= min_uc])]\n",
    "    \n",
    "    # Update both usercount and songcount after filtering\n",
    "    usercount, songcount = get_count(tp, 'uid'), get_count(tp, 'sid') \n",
    "    return tp, usercount, songcount"
   ]
  },
  {
   "cell_type": "code",
   "execution_count": 13,
   "metadata": {
    "collapsed": false
   },
   "outputs": [],
   "source": [
    "tp, usercount, songcount = remove_inactive(tp_good)"
   ]
  },
  {
   "cell_type": "code",
   "execution_count": 14,
   "metadata": {
    "collapsed": false
   },
   "outputs": [
    {
     "name": "stdout",
     "output_type": "stream",
     "text": [
      "After filtering, there are 38226302 triplets from 613682 users and 97414 songs (sparsity level 0.064%)\n"
     ]
    }
   ],
   "source": [
    "sparsity_level = float(tp.shape[0]) / (usercount.shape[0] * songcount.shape[0])\n",
    "print \"After filtering, there are %d triplets from %d users and %d songs (sparsity level %.3f%%)\" % (tp.shape[0], \n",
    "                                                                                                      usercount.shape[0], \n",
    "                                                                                                      songcount.shape[0], \n",
    "                                                                                                      sparsity_level * 100)"
   ]
  },
  {
   "cell_type": "code",
   "execution_count": 15,
   "metadata": {
    "collapsed": false
   },
   "outputs": [
    {
     "data": {
      "text/plain": [
       "<matplotlib.axes.AxesSubplot at 0x7e2a61d0>"
      ]
     },
     "execution_count": 15,
     "metadata": {},
     "output_type": "execute_result"
    },
    {
     "data": {
      "image/png": "[encoded data removed]",
      "text/plain": [
       "<matplotlib.figure.Figure at 0x3738a90>"
      ]
     },
     "metadata": {},
     "output_type": "display_data"
    }
   ],
   "source": [
    "usercount.hist(bins=100)"
   ]
  },
  {
   "cell_type": "code",
   "execution_count": 16,
   "metadata": {
    "collapsed": false
   },
   "outputs": [
    {
     "data": {
      "text/plain": [
       "<matplotlib.axes.AxesSubplot at 0x7e2ab850>"
      ]
     },
     "execution_count": 16,
     "metadata": {},
     "output_type": "execute_result"
    },
    {
     "data": {
      "image/png": "[encoded data removed]",
      "text/plain": [
       "<matplotlib.figure.Figure at 0x780c5f90>"
      ]
     },
     "metadata": {},
     "output_type": "display_data"
    }
   ],
   "source": [
    "songcount.hist(bins=100)"
   ]
  },
  {
   "cell_type": "code",
   "execution_count": 17,
   "metadata": {
    "collapsed": false
   },
   "outputs": [],
   "source": [
    "songcount.sort(ascending=False)"
   ]
  },
  {
   "cell_type": "code",
   "execution_count": 18,
   "metadata": {
    "collapsed": false
   },
   "outputs": [],
   "source": [
    "def get_song_info_from_sid(conn, sid):\n",
    "    cur = conn.cursor()\n",
    "    cur.execute(\"SELECT title, artist_name FROM songs WHERE song_id = '%s'\" % (sid))\n",
    "    title, artist = cur.fetchone()\n",
    "    return title, artist"
   ]
  },
  {
   "cell_type": "code",
   "execution_count": 19,
   "metadata": {
    "collapsed": false,
    "scrolled": true
   },
   "outputs": [
    {
     "name": "stdout",
     "output_type": "stream",
     "text": [
      "Sehr kosmisch BY Harmonia -- count: 80277\n",
      "Dog Days Are Over (Radio Edit) BY Florence + The Machine -- count: 71975\n",
      "Undo BY Björk -- count: 63486\n",
      "Secrets BY OneRepublic -- count: 60764\n",
      "You're The One BY Dwight Yoakam -- count: 60062\n",
      "Revelry BY Kings Of Leon -- count: 59131\n",
      "Fireflies BY Charttraxx Karaoke -- count: 50561\n",
      "Horn Concerto No. 4 in E flat K495: II. Romance (Andante cantabile) BY Barry Tuckwell/Academy of St Martin-in-the-Fields/Sir Neville Marriner -- count: 50029\n",
      "Hey_ Soul Sister BY Train -- count: 50013\n",
      "Tive Sim BY Cartola -- count: 44583\n",
      "OMG BY Usher featuring will.i.am -- count: 41360\n",
      "Drop The World BY Lil Wayne / Eminem -- count: 39214\n",
      "The Scientist BY Coldplay -- count: 38856\n",
      "Canada BY Five Iron Frenzy -- count: 37666\n",
      "Clocks BY Coldplay -- count: 36879\n",
      "Marry Me BY Train -- count: 36732\n",
      "Catch You Baby (Steve Pitron & Max Sanna Radio Edit) BY Lonnie Gordon -- count: 35097\n",
      "Pursuit Of Happiness (nightmare) BY Kid Cudi / MGMT / Ratatat -- count: 34032\n",
      "Lucky (Album Version) BY Jason Mraz & Colbie Caillat -- count: 33137\n",
      "Bulletproof BY La Roux -- count: 32884\n",
      "Alejandro BY Lady GaGa -- count: 32345\n",
      "Creep (Explicit) BY Radiohead -- count: 32231\n",
      "Just Dance BY Lady GaGa / Colby O'Donis -- count: 31958\n",
      "Billionaire [feat. Bruno Mars]  (Explicit Album Version) BY Travie McCoy -- count: 31932\n",
      "Sincerité Et Jalousie BY Alliance Ethnik -- count: 31547\n",
      "Représente BY Alliance Ethnik -- count: 30885\n",
      "The Only Exception (Album Version) BY Paramore -- count: 29614\n",
      "Invalid BY Tub Ring -- count: 28354\n",
      "Bleed It Out [Live At Milton Keynes] BY Linkin Park -- count: 28197\n",
      "I Gotta Feeling BY Black Eyed Peas -- count: 28048\n",
      "Ain't Misbehavin BY Sam Cooke -- count: 27195\n",
      "Heartbreak Warfare BY John Mayer -- count: 26389\n",
      "When You Were Young BY The Killers -- count: 26378\n",
      "Fix You BY Coldplay -- count: 26352\n",
      "Livin' On A Prayer BY Bon Jovi -- count: 26347\n",
      "The Gift BY Angels and Airwaves -- count: 25823\n",
      "Float On BY Modest Mouse -- count: 25196\n",
      "Cosmic Love BY Florence + The Machine -- count: 25167\n",
      "Halo BY Beyoncé -- count: 24744\n",
      "Kryptonite BY 3 Doors Down -- count: 24716\n",
      "Uprising BY Muse -- count: 24605\n",
      "Party In The U.S.A. BY Miley Cyrus -- count: 24448\n",
      "Sample Track 2 BY Simon Harris -- count: 24185\n",
      "I CAN'T GET STARTED BY Ron Carter -- count: 24104\n",
      "Bitter Sweet Symphony BY The Verve -- count: 23469\n",
      "You've Got The Love BY Florence + The Machine -- count: 22879\n",
      "Home BY Edward Sharpe & The Magnetic Zeros -- count: 22751\n",
      "Sexy Bitch BY DJ Dizzy -- count: 22623\n",
      "I Kissed A Girl BY Katy Perry -- count: 22605\n",
      "Electric Feel BY MGMT -- count: 22398\n"
     ]
    }
   ],
   "source": [
    "# take a look at the top 50 most listened songs\n",
    "with sqlite3.connect(os.path.join(MSD_ADD, md_dbfile)) as conn:\n",
    "    for i in xrange(50):\n",
    "        sid = songcount.index[i]\n",
    "        title, artist = get_song_info_from_sid(conn, sid)\n",
    "        print \"%s BY %s -- count: %d\" % (title, artist, songcount[i])"
   ]
  },
  {
   "cell_type": "markdown",
   "metadata": {},
   "source": [
    "## Generate in- and out-of-matrix split"
   ]
  },
  {
   "cell_type": "markdown",
   "metadata": {},
   "source": [
    "#### Get all users & songs in filtered taste profile, shuffle them, and map to integer indices"
   ]
  },
  {
   "cell_type": "code",
   "execution_count": 20,
   "metadata": {
    "collapsed": true
   },
   "outputs": [],
   "source": [
    "playcount = tp[['sid', 'count']]   "
   ]
  },
  {
   "cell_type": "code",
   "execution_count": 21,
   "metadata": {
    "collapsed": false
   },
   "outputs": [],
   "source": [
    "playcount_groupbysid = playcount.groupby('sid', as_index=False)"
   ]
  },
  {
   "cell_type": "code",
   "execution_count": 22,
   "metadata": {
    "collapsed": true
   },
   "outputs": [
    {
     "name": "stdout",
     "output_type": "stream",
     "text": [
      "                      sid   count\n",
      "6147   SOBONKR12A58A7A7E0  530291\n",
      "3174   SOAUWYT12A81C206F1  462084\n",
      "72395  SOSXLTC12AF72A7F54  381805\n",
      "22489  SOFRQTD12A81C233C0  318278\n",
      "3524   SOAXGDH12A8C13F8A1  293453\n",
      "16885  SOEGIYH12A6D4FC0E3  287323\n",
      "54300  SONYKOW12AB01849C9  232204\n",
      "61043  SOPUCYA12A8C13A694  231973\n",
      "77055  SOUFTBI12AB0183F65  203117\n",
      "55382  SOOFYTN12A6D4F9B35  186374\n",
      "30671  SOHTKMO12AB01843B0  183617\n",
      "80275  SOVDSJC12A58A7A271  177617\n",
      "6192   SOBOUPA12A6D4F81F1  175260\n",
      "13465  SODJWHY12A8C142CCE  166712\n",
      "44144  SOLFXKT12AB017E3E0  157726\n",
      "73078  SOTCMDJ12A6D4F8528  155002\n",
      "21564  SOFLJQZ12A6D4FADA6  146176\n",
      "75813  SOTWNDJ12A8C143984  136096\n",
      "78205  SOUNZHU12A8AE47481  123716\n",
      "78843  SOUSMXX12AB0185C24  121482\n",
      "79277  SOUVTSM12AC468F6A7  119187\n",
      "41186  SOKLRPJ12A8C13C3FE  110497\n",
      "66762  SORJICW12A8C13640D  106462\n",
      "6080   SOBOAFP12A8C131F36  106053\n",
      "60813  SOPSOHT12A67AE0235  105932\n",
      "83973  SOWEHOM12A6BD4E09E  103151\n",
      "76755  SOUDLVN12AAFF43658  103042\n",
      "60403  SOPPROJ12AB0184E18  101875\n",
      "11269  SOCVTLJ12A6310F0FD   99453\n",
      "60919  SOPTLQL12AB018D56F   95937\n",
      "...                   ...     ...\n",
      "32101  SOIDATE12A8C131200      53\n",
      "74223  SOTKYOX12A81C2061A      53\n",
      "40963  SOKKFHW12A67020AFB      53\n",
      "21522  SOFLDYI12A8C13C19F      53\n",
      "10035  SOCNQPD12AB0186432      53\n",
      "32170  SOIDNEP12A8C13C90B      53\n",
      "27029  SOGVISR12A8AE48718      53\n",
      "30890  SOHVCTM12A8C14128B      53\n",
      "24138  SOGCOVN12A58A79189      52\n",
      "19454  SOEXHUE12A6D4F9E3C      52\n",
      "84562  SOWINAL12A8C138F58      52\n",
      "50777  SOMZYTR12A8C13CC7D      52\n",
      "70327  SOSIWXC12A8C1372DF      52\n",
      "60903  SOPTGZW12A6D4F64A0      52\n",
      "89091  SOXPXBM12AB01820E7      51\n",
      "6681   SOBRRRB12A6D4F7328      51\n",
      "70609  SOSKRFC12A6701D619      51\n",
      "42073  SOKSBES12A58A7E021      51\n",
      "42806  SOKWZLI12A6310F139      51\n",
      "73908  SOTINBI12A58A80B04      51\n",
      "48795  SOMMEYQ12A8C131BC5      50\n",
      "1001   SOAGPYR12A6701DE67      50\n",
      "76083  SOTYOJT12AB018718B      50\n",
      "14085  SODOBPL12A8C142066      49\n",
      "58343  SOPATVC12A8C14385E      49\n",
      "48113  SOMHMKS12A81C22AC8      49\n",
      "70379  SOSJELD12AB018A529      49\n",
      "17334  SOEJGMO12A6D4F8333      49\n",
      "27596  SOGZAUQ12AAFF442CE      48\n",
      "31615  SOIAAWS12A58A7B3A0      47\n",
      "\n",
      "[97414 rows x 2 columns]\n"
     ]
    }
   ],
   "source": [
    "songcount = playcount_groupbysid.sum().sort('count', ascending=False)\n",
    "print songcount"
   ]
  },
  {
   "cell_type": "code",
   "execution_count": 23,
   "metadata": {
    "collapsed": false
   },
   "outputs": [],
   "source": [
    "unique_sid = pd.unique(tp['sid'])\n",
    "n_songs = len(unique_sid)\n",
    "# Shuffle songs\n",
    "np.random.seed(98765)\n",
    "idx = np.random.permutation(np.arange(n_songs))\n",
    "unique_sid = unique_sid[idx]"
   ]
  },
  {
   "cell_type": "code",
   "execution_count": 24,
   "metadata": {
    "collapsed": false
   },
   "outputs": [
    {
     "name": "stdout",
     "output_type": "stream",
     "text": [
      "97414\n"
     ]
    }
   ],
   "source": [
    "print n_songs\n",
    "unique_uid = pd.unique(tp['uid'])"
   ]
  },
  {
   "cell_type": "code",
   "execution_count": 25,
   "metadata": {
    "collapsed": true
   },
   "outputs": [],
   "source": [
    "# Map song/user ID to indices\n",
    "song2id = dict((sid, i) for (i, sid) in enumerate(unique_sid))\n",
    "user2id = dict((uid, i) for (i, uid) in enumerate(unique_uid))"
   ]
  },
  {
   "cell_type": "code",
   "execution_count": 26,
   "metadata": {
    "collapsed": true
   },
   "outputs": [],
   "source": [
    "with open('unique_uid.txt', 'w') as f:\n",
    "    for uid in unique_uid:\n",
    "        f.write('%s\\n' % uid)\n",
    "        \n",
    "with open('unique_sid.txt', 'w') as f:\n",
    "    for sid in unique_sid:\n",
    "        f.write('%s\\n' % sid)\n",
    "        \n",
    "with open('song2id.json', 'w') as f:\n",
    "    json.dump(song2id, f)\n",
    "\n",
    "with open('user2id.json', 'w') as f:\n",
    "    json.dump(user2id, f)"
   ]
  },
  {
   "cell_type": "markdown",
   "metadata": {},
   "source": [
    "#### Select 5% songs for out-of-matrix prediction"
   ]
  },
  {
   "cell_type": "code",
   "execution_count": 30,
   "metadata": {
    "collapsed": false
   },
   "outputs": [],
   "source": [
    "in_sid = unique_sid[:int(0.95 * n_songs)]\n",
    "out_sid = unique_sid[int(0.95 * n_songs):]"
   ]
  },
  {
   "cell_type": "code",
   "execution_count": 31,
   "metadata": {
    "collapsed": false
   },
   "outputs": [
    {
     "name": "stdout",
     "output_type": "stream",
     "text": [
      "(4871,)\n"
     ]
    }
   ],
   "source": [
    "print out_sid.shape"
   ]
  },
  {
   "cell_type": "code",
   "execution_count": 32,
   "metadata": {
    "collapsed": false
   },
   "outputs": [
    {
     "data": {
      "text/html": [
       "<div style=\"max-height:1000px;max-width:1500px;overflow:auto;\">\n",
       "<table border=\"1\" class=\"dataframe\">\n",
       "  <thead>\n",
       "    <tr style=\"text-align: right;\">\n",
       "      <th></th>\n",
       "      <th>uid</th>\n",
       "      <th>sid</th>\n",
       "      <th>count</th>\n",
       "    </tr>\n",
       "  </thead>\n",
       "  <tbody>\n",
       "    <tr>\n",
       "      <th>3       </th>\n",
       "      <td> b80344d063b5ccb3212f76538f3d9e43d87dca9e</td>\n",
       "      <td> SOBFNSP12AF72A0E22</td>\n",
       "      <td>  1</td>\n",
       "    </tr>\n",
       "    <tr>\n",
       "      <th>50      </th>\n",
       "      <td> b80344d063b5ccb3212f76538f3d9e43d87dca9e</td>\n",
       "      <td> SONRXOY12AB0181E84</td>\n",
       "      <td>  1</td>\n",
       "    </tr>\n",
       "    <tr>\n",
       "      <th>96      </th>\n",
       "      <td> b80344d063b5ccb3212f76538f3d9e43d87dca9e</td>\n",
       "      <td> SOXRXDG12A8C131DE5</td>\n",
       "      <td>  1</td>\n",
       "    </tr>\n",
       "    <tr>\n",
       "      <th>110     </th>\n",
       "      <td> 85c1f87fea955d09b4bec2e36aee110927aedf9a</td>\n",
       "      <td> SOHANDU12A8C13C47F</td>\n",
       "      <td>  1</td>\n",
       "    </tr>\n",
       "    <tr>\n",
       "      <th>120     </th>\n",
       "      <td> 85c1f87fea955d09b4bec2e36aee110927aedf9a</td>\n",
       "      <td> SOTVFEF12AF729E6CE</td>\n",
       "      <td>  3</td>\n",
       "    </tr>\n",
       "    <tr>\n",
       "      <th>123     </th>\n",
       "      <td> 85c1f87fea955d09b4bec2e36aee110927aedf9a</td>\n",
       "      <td> SOUSQUG12A8C13616F</td>\n",
       "      <td>  2</td>\n",
       "    </tr>\n",
       "    <tr>\n",
       "      <th>158     </th>\n",
       "      <td> 969cc6fb74e076a68e36a04409cb9d3765757508</td>\n",
       "      <td> SOGFUFC12A8C13F1E5</td>\n",
       "      <td>  6</td>\n",
       "    </tr>\n",
       "    <tr>\n",
       "      <th>266     </th>\n",
       "      <td> b64cdd1a0bd907e5e00b39e345194768e330d652</td>\n",
       "      <td> SOCBRSN12AAF3B30A6</td>\n",
       "      <td>  2</td>\n",
       "    </tr>\n",
       "    <tr>\n",
       "      <th>268     </th>\n",
       "      <td> b64cdd1a0bd907e5e00b39e345194768e330d652</td>\n",
       "      <td> SOCSISN12AF72AB1DE</td>\n",
       "      <td>  2</td>\n",
       "    </tr>\n",
       "    <tr>\n",
       "      <th>275     </th>\n",
       "      <td> b64cdd1a0bd907e5e00b39e345194768e330d652</td>\n",
       "      <td> SOEWYLX12A6D4F8E5F</td>\n",
       "      <td>  3</td>\n",
       "    </tr>\n",
       "    <tr>\n",
       "      <th>276     </th>\n",
       "      <td> b64cdd1a0bd907e5e00b39e345194768e330d652</td>\n",
       "      <td> SOFNCRW12A6D4F727B</td>\n",
       "      <td>  2</td>\n",
       "    </tr>\n",
       "    <tr>\n",
       "      <th>322     </th>\n",
       "      <td> b64cdd1a0bd907e5e00b39e345194768e330d652</td>\n",
       "      <td> SOQXKUV12A6D4FB4C9</td>\n",
       "      <td>  1</td>\n",
       "    </tr>\n",
       "    <tr>\n",
       "      <th>339     </th>\n",
       "      <td> b64cdd1a0bd907e5e00b39e345194768e330d652</td>\n",
       "      <td> SOUZRCP12AB0182164</td>\n",
       "      <td>  1</td>\n",
       "    </tr>\n",
       "    <tr>\n",
       "      <th>342     </th>\n",
       "      <td> b64cdd1a0bd907e5e00b39e345194768e330d652</td>\n",
       "      <td> SOVMCAR12AF72A1268</td>\n",
       "      <td>  1</td>\n",
       "    </tr>\n",
       "    <tr>\n",
       "      <th>348     </th>\n",
       "      <td> b64cdd1a0bd907e5e00b39e345194768e330d652</td>\n",
       "      <td> SOWSWTD12A67ADA3D7</td>\n",
       "      <td>  1</td>\n",
       "    </tr>\n",
       "    <tr>\n",
       "      <th>366     </th>\n",
       "      <td> 17aa9f6dbdf753831da8f38c71b66b64373de613</td>\n",
       "      <td> SOBDVAK12AC90759A2</td>\n",
       "      <td>  1</td>\n",
       "    </tr>\n",
       "    <tr>\n",
       "      <th>388     </th>\n",
       "      <td> 17aa9f6dbdf753831da8f38c71b66b64373de613</td>\n",
       "      <td> SOEOJHS12AB017F3DC</td>\n",
       "      <td>  2</td>\n",
       "    </tr>\n",
       "    <tr>\n",
       "      <th>393     </th>\n",
       "      <td> 17aa9f6dbdf753831da8f38c71b66b64373de613</td>\n",
       "      <td> SOFKYDZ12AB017F425</td>\n",
       "      <td>  1</td>\n",
       "    </tr>\n",
       "    <tr>\n",
       "      <th>423     </th>\n",
       "      <td> 17aa9f6dbdf753831da8f38c71b66b64373de613</td>\n",
       "      <td> SOJITNW12A8C13D951</td>\n",
       "      <td>  2</td>\n",
       "    </tr>\n",
       "    <tr>\n",
       "      <th>510     </th>\n",
       "      <td> d6589314c0a9bcbca4fee0c93b14bc402363afea</td>\n",
       "      <td> SODLSCE12A6D4FBCAC</td>\n",
       "      <td>  1</td>\n",
       "    </tr>\n",
       "    <tr>\n",
       "      <th>559     </th>\n",
       "      <td> 5a905f000fc1ff3df7ca807d57edb608863db05d</td>\n",
       "      <td> SOAFOBL12AF72A25BA</td>\n",
       "      <td> 12</td>\n",
       "    </tr>\n",
       "    <tr>\n",
       "      <th>569     </th>\n",
       "      <td> 5a905f000fc1ff3df7ca807d57edb608863db05d</td>\n",
       "      <td> SOAOFBI12A8C143E28</td>\n",
       "      <td>  1</td>\n",
       "    </tr>\n",
       "    <tr>\n",
       "      <th>587     </th>\n",
       "      <td> 5a905f000fc1ff3df7ca807d57edb608863db05d</td>\n",
       "      <td> SOBOJJB12A58A7D1AD</td>\n",
       "      <td>  3</td>\n",
       "    </tr>\n",
       "    <tr>\n",
       "      <th>595     </th>\n",
       "      <td> 5a905f000fc1ff3df7ca807d57edb608863db05d</td>\n",
       "      <td> SOCBNIS12AF72AB9D3</td>\n",
       "      <td>  2</td>\n",
       "    </tr>\n",
       "    <tr>\n",
       "      <th>596     </th>\n",
       "      <td> 5a905f000fc1ff3df7ca807d57edb608863db05d</td>\n",
       "      <td> SOCEWVG12A8C13DCC2</td>\n",
       "      <td>  1</td>\n",
       "    </tr>\n",
       "    <tr>\n",
       "      <th>669     </th>\n",
       "      <td> 5a905f000fc1ff3df7ca807d57edb608863db05d</td>\n",
       "      <td> SOGIEOU12A8C134815</td>\n",
       "      <td>  1</td>\n",
       "    </tr>\n",
       "    <tr>\n",
       "      <th>677     </th>\n",
       "      <td> 5a905f000fc1ff3df7ca807d57edb608863db05d</td>\n",
       "      <td> SOGVWGI12A8C13B9D1</td>\n",
       "      <td>  1</td>\n",
       "    </tr>\n",
       "    <tr>\n",
       "      <th>683     </th>\n",
       "      <td> 5a905f000fc1ff3df7ca807d57edb608863db05d</td>\n",
       "      <td> SOHBURV12A8C13B628</td>\n",
       "      <td>  1</td>\n",
       "    </tr>\n",
       "    <tr>\n",
       "      <th>687     </th>\n",
       "      <td> 5a905f000fc1ff3df7ca807d57edb608863db05d</td>\n",
       "      <td> SOHIDCT12AB018C98E</td>\n",
       "      <td>  1</td>\n",
       "    </tr>\n",
       "    <tr>\n",
       "      <th>691     </th>\n",
       "      <td> 5a905f000fc1ff3df7ca807d57edb608863db05d</td>\n",
       "      <td> SOHWBGO12A6D4FA87A</td>\n",
       "      <td>  2</td>\n",
       "    </tr>\n",
       "    <tr>\n",
       "      <th>...</th>\n",
       "      <td>...</td>\n",
       "      <td>...</td>\n",
       "      <td>...</td>\n",
       "    </tr>\n",
       "    <tr>\n",
       "      <th>48372670</th>\n",
       "      <td> 3b91968ca65411893d356bb96e7cce1e3fe8f764</td>\n",
       "      <td> SOKPWKZ12AB0182223</td>\n",
       "      <td>  1</td>\n",
       "    </tr>\n",
       "    <tr>\n",
       "      <th>48372676</th>\n",
       "      <td> 3b91968ca65411893d356bb96e7cce1e3fe8f764</td>\n",
       "      <td> SOLWHDY12A6310DFE5</td>\n",
       "      <td>  1</td>\n",
       "    </tr>\n",
       "    <tr>\n",
       "      <th>48372697</th>\n",
       "      <td> 3b91968ca65411893d356bb96e7cce1e3fe8f764</td>\n",
       "      <td> SOPFJGB12A6702166F</td>\n",
       "      <td>  3</td>\n",
       "    </tr>\n",
       "    <tr>\n",
       "      <th>48372731</th>\n",
       "      <td> 3b91968ca65411893d356bb96e7cce1e3fe8f764</td>\n",
       "      <td> SOVCNHZ12AB0180982</td>\n",
       "      <td>  1</td>\n",
       "    </tr>\n",
       "    <tr>\n",
       "      <th>48372867</th>\n",
       "      <td> 67b00a32e0d314eb059016a24864d5e7ee8219b8</td>\n",
       "      <td> SOGOPZL12A8C13CC50</td>\n",
       "      <td>  1</td>\n",
       "    </tr>\n",
       "    <tr>\n",
       "      <th>48372886</th>\n",
       "      <td> 67b00a32e0d314eb059016a24864d5e7ee8219b8</td>\n",
       "      <td> SOQARDA12B0B809080</td>\n",
       "      <td>  1</td>\n",
       "    </tr>\n",
       "    <tr>\n",
       "      <th>48372921</th>\n",
       "      <td> 69e03764ed3bb92a765bd73ef273fcc479f63754</td>\n",
       "      <td> SONGTTS12A6701E59A</td>\n",
       "      <td> 13</td>\n",
       "    </tr>\n",
       "    <tr>\n",
       "      <th>48373009</th>\n",
       "      <td> 4d5b26d3f618ce63ba018fe34d57e71f1b8e2184</td>\n",
       "      <td> SOARLEM12AF729FFB8</td>\n",
       "      <td>  1</td>\n",
       "    </tr>\n",
       "    <tr>\n",
       "      <th>48373072</th>\n",
       "      <td> 4d5b26d3f618ce63ba018fe34d57e71f1b8e2184</td>\n",
       "      <td> SOMCAFM12A58A7B024</td>\n",
       "      <td> 11</td>\n",
       "    </tr>\n",
       "    <tr>\n",
       "      <th>48373077</th>\n",
       "      <td> 4d5b26d3f618ce63ba018fe34d57e71f1b8e2184</td>\n",
       "      <td> SOMUENG12A8C1442F3</td>\n",
       "      <td>  2</td>\n",
       "    </tr>\n",
       "    <tr>\n",
       "      <th>48373085</th>\n",
       "      <td> 4d5b26d3f618ce63ba018fe34d57e71f1b8e2184</td>\n",
       "      <td> SOOAFDW12A8C13325B</td>\n",
       "      <td>  2</td>\n",
       "    </tr>\n",
       "    <tr>\n",
       "      <th>48373091</th>\n",
       "      <td> 4d5b26d3f618ce63ba018fe34d57e71f1b8e2184</td>\n",
       "      <td> SOOVJTE12A8C132892</td>\n",
       "      <td>  1</td>\n",
       "    </tr>\n",
       "    <tr>\n",
       "      <th>48373096</th>\n",
       "      <td> 4d5b26d3f618ce63ba018fe34d57e71f1b8e2184</td>\n",
       "      <td> SOOZFCC12A58A7D783</td>\n",
       "      <td> 14</td>\n",
       "    </tr>\n",
       "    <tr>\n",
       "      <th>48373115</th>\n",
       "      <td> 4d5b26d3f618ce63ba018fe34d57e71f1b8e2184</td>\n",
       "      <td> SOSKFED12A8C1343AB</td>\n",
       "      <td>  1</td>\n",
       "    </tr>\n",
       "    <tr>\n",
       "      <th>48373123</th>\n",
       "      <td> 4d5b26d3f618ce63ba018fe34d57e71f1b8e2184</td>\n",
       "      <td> SOTGZIH12A8C1428A5</td>\n",
       "      <td>  2</td>\n",
       "    </tr>\n",
       "    <tr>\n",
       "      <th>48373124</th>\n",
       "      <td> 4d5b26d3f618ce63ba018fe34d57e71f1b8e2184</td>\n",
       "      <td> SOTKNTF12A8C144A0D</td>\n",
       "      <td>  2</td>\n",
       "    </tr>\n",
       "    <tr>\n",
       "      <th>48373139</th>\n",
       "      <td> 4d5b26d3f618ce63ba018fe34d57e71f1b8e2184</td>\n",
       "      <td> SOVBRCP12A6701D7B5</td>\n",
       "      <td>  2</td>\n",
       "    </tr>\n",
       "    <tr>\n",
       "      <th>48373144</th>\n",
       "      <td> 4d5b26d3f618ce63ba018fe34d57e71f1b8e2184</td>\n",
       "      <td> SOWIGII12A58A7A939</td>\n",
       "      <td> 16</td>\n",
       "    </tr>\n",
       "    <tr>\n",
       "      <th>48373241</th>\n",
       "      <td> 8305c896f42308824da7d4386f4b9ee584281412</td>\n",
       "      <td> SODLAPJ12A8C142002</td>\n",
       "      <td>  2</td>\n",
       "    </tr>\n",
       "    <tr>\n",
       "      <th>48373254</th>\n",
       "      <td> 8305c896f42308824da7d4386f4b9ee584281412</td>\n",
       "      <td> SOEWYLX12A6D4F8E5F</td>\n",
       "      <td>  1</td>\n",
       "    </tr>\n",
       "    <tr>\n",
       "      <th>48373324</th>\n",
       "      <td> 8305c896f42308824da7d4386f4b9ee584281412</td>\n",
       "      <td> SOLRGVL12A8C143BC3</td>\n",
       "      <td>  1</td>\n",
       "    </tr>\n",
       "    <tr>\n",
       "      <th>48373329</th>\n",
       "      <td> 8305c896f42308824da7d4386f4b9ee584281412</td>\n",
       "      <td> SOMCAFM12A58A7B024</td>\n",
       "      <td>  6</td>\n",
       "    </tr>\n",
       "    <tr>\n",
       "      <th>48373356</th>\n",
       "      <td> 8305c896f42308824da7d4386f4b9ee584281412</td>\n",
       "      <td> SOPREHY12AB01815F9</td>\n",
       "      <td>  3</td>\n",
       "    </tr>\n",
       "    <tr>\n",
       "      <th>48373377</th>\n",
       "      <td> 8305c896f42308824da7d4386f4b9ee584281412</td>\n",
       "      <td> SOSCIZP12AB0181D2F</td>\n",
       "      <td>  1</td>\n",
       "    </tr>\n",
       "    <tr>\n",
       "      <th>48373396</th>\n",
       "      <td> 8305c896f42308824da7d4386f4b9ee584281412</td>\n",
       "      <td> SOTKYBW12A8C13C3EA</td>\n",
       "      <td>  3</td>\n",
       "    </tr>\n",
       "    <tr>\n",
       "      <th>48373428</th>\n",
       "      <td> 8305c896f42308824da7d4386f4b9ee584281412</td>\n",
       "      <td> SOVWADY12AB0189C63</td>\n",
       "      <td>  5</td>\n",
       "    </tr>\n",
       "    <tr>\n",
       "      <th>48373442</th>\n",
       "      <td> 8305c896f42308824da7d4386f4b9ee584281412</td>\n",
       "      <td> SOWYYUQ12A6701D68D</td>\n",
       "      <td>  1</td>\n",
       "    </tr>\n",
       "    <tr>\n",
       "      <th>48373451</th>\n",
       "      <td> 8305c896f42308824da7d4386f4b9ee584281412</td>\n",
       "      <td> SOXZSEH12AC468CABB</td>\n",
       "      <td>  1</td>\n",
       "    </tr>\n",
       "    <tr>\n",
       "      <th>48373548</th>\n",
       "      <td> b7815dbb206eb2831ce0fe040d0aa537e2e800f7</td>\n",
       "      <td> SODJQXO12A6D4F697D</td>\n",
       "      <td>  2</td>\n",
       "    </tr>\n",
       "    <tr>\n",
       "      <th>48373549</th>\n",
       "      <td> b7815dbb206eb2831ce0fe040d0aa537e2e800f7</td>\n",
       "      <td> SOEISDE12A8AE4632E</td>\n",
       "      <td>  1</td>\n",
       "    </tr>\n",
       "  </tbody>\n",
       "</table>\n",
       "<p>1922113 rows × 3 columns</p>\n",
       "</div>"
      ],
      "text/plain": [
       "                                               uid                 sid  count\n",
       "3         b80344d063b5ccb3212f76538f3d9e43d87dca9e  SOBFNSP12AF72A0E22      1\n",
       "50        b80344d063b5ccb3212f76538f3d9e43d87dca9e  SONRXOY12AB0181E84      1\n",
       "96        b80344d063b5ccb3212f76538f3d9e43d87dca9e  SOXRXDG12A8C131DE5      1\n",
       "110       85c1f87fea955d09b4bec2e36aee110927aedf9a  SOHANDU12A8C13C47F      1\n",
       "120       85c1f87fea955d09b4bec2e36aee110927aedf9a  SOTVFEF12AF729E6CE      3\n",
       "123       85c1f87fea955d09b4bec2e36aee110927aedf9a  SOUSQUG12A8C13616F      2\n",
       "158       969cc6fb74e076a68e36a04409cb9d3765757508  SOGFUFC12A8C13F1E5      6\n",
       "266       b64cdd1a0bd907e5e00b39e345194768e330d652  SOCBRSN12AAF3B30A6      2\n",
       "268       b64cdd1a0bd907e5e00b39e345194768e330d652  SOCSISN12AF72AB1DE      2\n",
       "275       b64cdd1a0bd907e5e00b39e345194768e330d652  SOEWYLX12A6D4F8E5F      3\n",
       "276       b64cdd1a0bd907e5e00b39e345194768e330d652  SOFNCRW12A6D4F727B      2\n",
       "322       b64cdd1a0bd907e5e00b39e345194768e330d652  SOQXKUV12A6D4FB4C9      1\n",
       "339       b64cdd1a0bd907e5e00b39e345194768e330d652  SOUZRCP12AB0182164      1\n",
       "342       b64cdd1a0bd907e5e00b39e345194768e330d652  SOVMCAR12AF72A1268      1\n",
       "348       b64cdd1a0bd907e5e00b39e345194768e330d652  SOWSWTD12A67ADA3D7      1\n",
       "366       17aa9f6dbdf753831da8f38c71b66b64373de613  SOBDVAK12AC90759A2      1\n",
       "388       17aa9f6dbdf753831da8f38c71b66b64373de613  SOEOJHS12AB017F3DC      2\n",
       "393       17aa9f6dbdf753831da8f38c71b66b64373de613  SOFKYDZ12AB017F425      1\n",
       "423       17aa9f6dbdf753831da8f38c71b66b64373de613  SOJITNW12A8C13D951      2\n",
       "510       d6589314c0a9bcbca4fee0c93b14bc402363afea  SODLSCE12A6D4FBCAC      1\n",
       "559       5a905f000fc1ff3df7ca807d57edb608863db05d  SOAFOBL12AF72A25BA     12\n",
       "569       5a905f000fc1ff3df7ca807d57edb608863db05d  SOAOFBI12A8C143E28      1\n",
       "587       5a905f000fc1ff3df7ca807d57edb608863db05d  SOBOJJB12A58A7D1AD      3\n",
       "595       5a905f000fc1ff3df7ca807d57edb608863db05d  SOCBNIS12AF72AB9D3      2\n",
       "596       5a905f000fc1ff3df7ca807d57edb608863db05d  SOCEWVG12A8C13DCC2      1\n",
       "669       5a905f000fc1ff3df7ca807d57edb608863db05d  SOGIEOU12A8C134815      1\n",
       "677       5a905f000fc1ff3df7ca807d57edb608863db05d  SOGVWGI12A8C13B9D1      1\n",
       "683       5a905f000fc1ff3df7ca807d57edb608863db05d  SOHBURV12A8C13B628      1\n",
       "687       5a905f000fc1ff3df7ca807d57edb608863db05d  SOHIDCT12AB018C98E      1\n",
       "691       5a905f000fc1ff3df7ca807d57edb608863db05d  SOHWBGO12A6D4FA87A      2\n",
       "...                                            ...                 ...    ...\n",
       "48372670  3b91968ca65411893d356bb96e7cce1e3fe8f764  SOKPWKZ12AB0182223      1\n",
       "48372676  3b91968ca65411893d356bb96e7cce1e3fe8f764  SOLWHDY12A6310DFE5      1\n",
       "48372697  3b91968ca65411893d356bb96e7cce1e3fe8f764  SOPFJGB12A6702166F      3\n",
       "48372731  3b91968ca65411893d356bb96e7cce1e3fe8f764  SOVCNHZ12AB0180982      1\n",
       "48372867  67b00a32e0d314eb059016a24864d5e7ee8219b8  SOGOPZL12A8C13CC50      1\n",
       "48372886  67b00a32e0d314eb059016a24864d5e7ee8219b8  SOQARDA12B0B809080      1\n",
       "48372921  69e03764ed3bb92a765bd73ef273fcc479f63754  SONGTTS12A6701E59A     13\n",
       "48373009  4d5b26d3f618ce63ba018fe34d57e71f1b8e2184  SOARLEM12AF729FFB8      1\n",
       "48373072  4d5b26d3f618ce63ba018fe34d57e71f1b8e2184  SOMCAFM12A58A7B024     11\n",
       "48373077  4d5b26d3f618ce63ba018fe34d57e71f1b8e2184  SOMUENG12A8C1442F3      2\n",
       "48373085  4d5b26d3f618ce63ba018fe34d57e71f1b8e2184  SOOAFDW12A8C13325B      2\n",
       "48373091  4d5b26d3f618ce63ba018fe34d57e71f1b8e2184  SOOVJTE12A8C132892      1\n",
       "48373096  4d5b26d3f618ce63ba018fe34d57e71f1b8e2184  SOOZFCC12A58A7D783     14\n",
       "48373115  4d5b26d3f618ce63ba018fe34d57e71f1b8e2184  SOSKFED12A8C1343AB      1\n",
       "48373123  4d5b26d3f618ce63ba018fe34d57e71f1b8e2184  SOTGZIH12A8C1428A5      2\n",
       "48373124  4d5b26d3f618ce63ba018fe34d57e71f1b8e2184  SOTKNTF12A8C144A0D      2\n",
       "48373139  4d5b26d3f618ce63ba018fe34d57e71f1b8e2184  SOVBRCP12A6701D7B5      2\n",
       "48373144  4d5b26d3f618ce63ba018fe34d57e71f1b8e2184  SOWIGII12A58A7A939     16\n",
       "48373241  8305c896f42308824da7d4386f4b9ee584281412  SODLAPJ12A8C142002      2\n",
       "48373254  8305c896f42308824da7d4386f4b9ee584281412  SOEWYLX12A6D4F8E5F      1\n",
       "48373324  8305c896f42308824da7d4386f4b9ee584281412  SOLRGVL12A8C143BC3      1\n",
       "48373329  8305c896f42308824da7d4386f4b9ee584281412  SOMCAFM12A58A7B024      6\n",
       "48373356  8305c896f42308824da7d4386f4b9ee584281412  SOPREHY12AB01815F9      3\n",
       "48373377  8305c896f42308824da7d4386f4b9ee584281412  SOSCIZP12AB0181D2F      1\n",
       "48373396  8305c896f42308824da7d4386f4b9ee584281412  SOTKYBW12A8C13C3EA      3\n",
       "48373428  8305c896f42308824da7d4386f4b9ee584281412  SOVWADY12AB0189C63      5\n",
       "48373442  8305c896f42308824da7d4386f4b9ee584281412  SOWYYUQ12A6701D68D      1\n",
       "48373451  8305c896f42308824da7d4386f4b9ee584281412  SOXZSEH12AC468CABB      1\n",
       "48373548  b7815dbb206eb2831ce0fe040d0aa537e2e800f7  SODJQXO12A6D4F697D      2\n",
       "48373549  b7815dbb206eb2831ce0fe040d0aa537e2e800f7  SOEISDE12A8AE4632E      1\n",
       "\n",
       "[1922113 rows x 3 columns]"
      ]
     },
     "execution_count": 32,
     "metadata": {},
     "output_type": "execute_result"
    }
   ],
   "source": [
    "out_tp = tp[tp['sid'].isin(out_sid)]\n",
    "out_tp"
   ]
  },
  {
   "cell_type": "code",
   "execution_count": 33,
   "metadata": {
    "collapsed": false
   },
   "outputs": [
    {
     "data": {
      "text/html": [
       "<div style=\"max-height:1000px;max-width:1500px;overflow:auto;\">\n",
       "<table border=\"1\" class=\"dataframe\">\n",
       "  <thead>\n",
       "    <tr style=\"text-align: right;\">\n",
       "      <th></th>\n",
       "      <th>uid</th>\n",
       "      <th>sid</th>\n",
       "      <th>count</th>\n",
       "    </tr>\n",
       "  </thead>\n",
       "  <tbody>\n",
       "    <tr>\n",
       "      <th>0       </th>\n",
       "      <td> b80344d063b5ccb3212f76538f3d9e43d87dca9e</td>\n",
       "      <td> SOAKIMP12A8C130995</td>\n",
       "      <td> 1</td>\n",
       "    </tr>\n",
       "    <tr>\n",
       "      <th>1       </th>\n",
       "      <td> b80344d063b5ccb3212f76538f3d9e43d87dca9e</td>\n",
       "      <td> SOAPDEY12A81C210A9</td>\n",
       "      <td> 1</td>\n",
       "    </tr>\n",
       "    <tr>\n",
       "      <th>2       </th>\n",
       "      <td> b80344d063b5ccb3212f76538f3d9e43d87dca9e</td>\n",
       "      <td> SOBBMDR12A8C13253B</td>\n",
       "      <td> 2</td>\n",
       "    </tr>\n",
       "    <tr>\n",
       "      <th>4       </th>\n",
       "      <td> b80344d063b5ccb3212f76538f3d9e43d87dca9e</td>\n",
       "      <td> SOBFOVM12A58A7D494</td>\n",
       "      <td> 1</td>\n",
       "    </tr>\n",
       "    <tr>\n",
       "      <th>6       </th>\n",
       "      <td> b80344d063b5ccb3212f76538f3d9e43d87dca9e</td>\n",
       "      <td> SOBSUJE12A6D4F8CF5</td>\n",
       "      <td> 2</td>\n",
       "    </tr>\n",
       "    <tr>\n",
       "      <th>7       </th>\n",
       "      <td> b80344d063b5ccb3212f76538f3d9e43d87dca9e</td>\n",
       "      <td> SOBVFZR12A6D4F8AE3</td>\n",
       "      <td> 1</td>\n",
       "    </tr>\n",
       "    <tr>\n",
       "      <th>8       </th>\n",
       "      <td> b80344d063b5ccb3212f76538f3d9e43d87dca9e</td>\n",
       "      <td> SOBXALG12A8C13C108</td>\n",
       "      <td> 1</td>\n",
       "    </tr>\n",
       "    <tr>\n",
       "      <th>10      </th>\n",
       "      <td> b80344d063b5ccb3212f76538f3d9e43d87dca9e</td>\n",
       "      <td> SOBYHAJ12A6701BF1D</td>\n",
       "      <td> 1</td>\n",
       "    </tr>\n",
       "    <tr>\n",
       "      <th>11      </th>\n",
       "      <td> b80344d063b5ccb3212f76538f3d9e43d87dca9e</td>\n",
       "      <td> SOCNMUH12A6D4F6E6D</td>\n",
       "      <td> 1</td>\n",
       "    </tr>\n",
       "    <tr>\n",
       "      <th>12      </th>\n",
       "      <td> b80344d063b5ccb3212f76538f3d9e43d87dca9e</td>\n",
       "      <td> SODACBL12A8C13C273</td>\n",
       "      <td> 1</td>\n",
       "    </tr>\n",
       "    <tr>\n",
       "      <th>13      </th>\n",
       "      <td> b80344d063b5ccb3212f76538f3d9e43d87dca9e</td>\n",
       "      <td> SODDNQT12A6D4F5F7E</td>\n",
       "      <td> 5</td>\n",
       "    </tr>\n",
       "    <tr>\n",
       "      <th>14      </th>\n",
       "      <td> b80344d063b5ccb3212f76538f3d9e43d87dca9e</td>\n",
       "      <td> SODXRTY12AB0180F3B</td>\n",
       "      <td> 1</td>\n",
       "    </tr>\n",
       "    <tr>\n",
       "      <th>15      </th>\n",
       "      <td> b80344d063b5ccb3212f76538f3d9e43d87dca9e</td>\n",
       "      <td> SODZWFT12A8C13C0E4</td>\n",
       "      <td> 1</td>\n",
       "    </tr>\n",
       "    <tr>\n",
       "      <th>16      </th>\n",
       "      <td> b80344d063b5ccb3212f76538f3d9e43d87dca9e</td>\n",
       "      <td> SOEGVZY12A58A7857E</td>\n",
       "      <td> 1</td>\n",
       "    </tr>\n",
       "    <tr>\n",
       "      <th>18      </th>\n",
       "      <td> b80344d063b5ccb3212f76538f3d9e43d87dca9e</td>\n",
       "      <td> SOEOBYG12A6D4F8AE2</td>\n",
       "      <td> 1</td>\n",
       "    </tr>\n",
       "    <tr>\n",
       "      <th>19      </th>\n",
       "      <td> b80344d063b5ccb3212f76538f3d9e43d87dca9e</td>\n",
       "      <td> SOEWFWM12A8C1308BA</td>\n",
       "      <td> 1</td>\n",
       "    </tr>\n",
       "    <tr>\n",
       "      <th>20      </th>\n",
       "      <td> b80344d063b5ccb3212f76538f3d9e43d87dca9e</td>\n",
       "      <td> SOFFJPX12A6D4F7456</td>\n",
       "      <td> 1</td>\n",
       "    </tr>\n",
       "    <tr>\n",
       "      <th>21      </th>\n",
       "      <td> b80344d063b5ccb3212f76538f3d9e43d87dca9e</td>\n",
       "      <td> SOFGUAY12AB017B0A8</td>\n",
       "      <td> 1</td>\n",
       "    </tr>\n",
       "    <tr>\n",
       "      <th>22      </th>\n",
       "      <td> b80344d063b5ccb3212f76538f3d9e43d87dca9e</td>\n",
       "      <td> SOFRQTD12A81C233C0</td>\n",
       "      <td> 1</td>\n",
       "    </tr>\n",
       "    <tr>\n",
       "      <th>24      </th>\n",
       "      <td> b80344d063b5ccb3212f76538f3d9e43d87dca9e</td>\n",
       "      <td> SOFZFQU12A8C13CAB8</td>\n",
       "      <td> 1</td>\n",
       "    </tr>\n",
       "    <tr>\n",
       "      <th>25      </th>\n",
       "      <td> b80344d063b5ccb3212f76538f3d9e43d87dca9e</td>\n",
       "      <td> SOGJAOS12A6D4F7459</td>\n",
       "      <td> 1</td>\n",
       "    </tr>\n",
       "    <tr>\n",
       "      <th>26      </th>\n",
       "      <td> b80344d063b5ccb3212f76538f3d9e43d87dca9e</td>\n",
       "      <td> SOHQIAG12A8C136F64</td>\n",
       "      <td> 1</td>\n",
       "    </tr>\n",
       "    <tr>\n",
       "      <th>27      </th>\n",
       "      <td> b80344d063b5ccb3212f76538f3d9e43d87dca9e</td>\n",
       "      <td> SOHQWYZ12A6D4FA701</td>\n",
       "      <td> 1</td>\n",
       "    </tr>\n",
       "    <tr>\n",
       "      <th>28      </th>\n",
       "      <td> b80344d063b5ccb3212f76538f3d9e43d87dca9e</td>\n",
       "      <td> SOHQZCA12A6D4FB317</td>\n",
       "      <td> 1</td>\n",
       "    </tr>\n",
       "    <tr>\n",
       "      <th>29      </th>\n",
       "      <td> b80344d063b5ccb3212f76538f3d9e43d87dca9e</td>\n",
       "      <td> SOIAOBY12A8C13BF75</td>\n",
       "      <td> 1</td>\n",
       "    </tr>\n",
       "    <tr>\n",
       "      <th>30      </th>\n",
       "      <td> b80344d063b5ccb3212f76538f3d9e43d87dca9e</td>\n",
       "      <td> SOIQOQT12A8C136F96</td>\n",
       "      <td> 1</td>\n",
       "    </tr>\n",
       "    <tr>\n",
       "      <th>31      </th>\n",
       "      <td> b80344d063b5ccb3212f76538f3d9e43d87dca9e</td>\n",
       "      <td> SOISWBZ12A8C13C0F7</td>\n",
       "      <td> 1</td>\n",
       "    </tr>\n",
       "    <tr>\n",
       "      <th>32      </th>\n",
       "      <td> b80344d063b5ccb3212f76538f3d9e43d87dca9e</td>\n",
       "      <td> SOIYTOA12A6D4F9A23</td>\n",
       "      <td> 1</td>\n",
       "    </tr>\n",
       "    <tr>\n",
       "      <th>33      </th>\n",
       "      <td> b80344d063b5ccb3212f76538f3d9e43d87dca9e</td>\n",
       "      <td> SOIZAZL12A6701C53B</td>\n",
       "      <td> 5</td>\n",
       "    </tr>\n",
       "    <tr>\n",
       "      <th>34      </th>\n",
       "      <td> b80344d063b5ccb3212f76538f3d9e43d87dca9e</td>\n",
       "      <td> SOJNNUA12A8AE48C7A</td>\n",
       "      <td> 1</td>\n",
       "    </tr>\n",
       "    <tr>\n",
       "      <th>...</th>\n",
       "      <td>...</td>\n",
       "      <td>...</td>\n",
       "      <td>...</td>\n",
       "    </tr>\n",
       "    <tr>\n",
       "      <th>48373552</th>\n",
       "      <td> b7815dbb206eb2831ce0fe040d0aa537e2e800f7</td>\n",
       "      <td> SOHHKGO12AC3DF57BF</td>\n",
       "      <td> 1</td>\n",
       "    </tr>\n",
       "    <tr>\n",
       "      <th>48373553</th>\n",
       "      <td> b7815dbb206eb2831ce0fe040d0aa537e2e800f7</td>\n",
       "      <td> SOHLLRP12A6701F2F4</td>\n",
       "      <td> 1</td>\n",
       "    </tr>\n",
       "    <tr>\n",
       "      <th>48373554</th>\n",
       "      <td> b7815dbb206eb2831ce0fe040d0aa537e2e800f7</td>\n",
       "      <td> SOHMACD12A6D4F9582</td>\n",
       "      <td> 1</td>\n",
       "    </tr>\n",
       "    <tr>\n",
       "      <th>48373555</th>\n",
       "      <td> b7815dbb206eb2831ce0fe040d0aa537e2e800f7</td>\n",
       "      <td> SOHYSXA12AB0186704</td>\n",
       "      <td> 1</td>\n",
       "    </tr>\n",
       "    <tr>\n",
       "      <th>48373556</th>\n",
       "      <td> b7815dbb206eb2831ce0fe040d0aa537e2e800f7</td>\n",
       "      <td> SOIBAQJ12AB0182643</td>\n",
       "      <td> 1</td>\n",
       "    </tr>\n",
       "    <tr>\n",
       "      <th>48373557</th>\n",
       "      <td> b7815dbb206eb2831ce0fe040d0aa537e2e800f7</td>\n",
       "      <td> SOJGZXL12A6D4F2980</td>\n",
       "      <td> 1</td>\n",
       "    </tr>\n",
       "    <tr>\n",
       "      <th>48373558</th>\n",
       "      <td> b7815dbb206eb2831ce0fe040d0aa537e2e800f7</td>\n",
       "      <td> SOJZZQW12A6702028B</td>\n",
       "      <td> 1</td>\n",
       "    </tr>\n",
       "    <tr>\n",
       "      <th>48373560</th>\n",
       "      <td> b7815dbb206eb2831ce0fe040d0aa537e2e800f7</td>\n",
       "      <td> SOMAKIT12A58A7E292</td>\n",
       "      <td> 1</td>\n",
       "    </tr>\n",
       "    <tr>\n",
       "      <th>48373561</th>\n",
       "      <td> b7815dbb206eb2831ce0fe040d0aa537e2e800f7</td>\n",
       "      <td> SONWLIS12A8C140865</td>\n",
       "      <td> 2</td>\n",
       "    </tr>\n",
       "    <tr>\n",
       "      <th>48373562</th>\n",
       "      <td> b7815dbb206eb2831ce0fe040d0aa537e2e800f7</td>\n",
       "      <td> SOOAAGD12AB017BCDA</td>\n",
       "      <td> 1</td>\n",
       "    </tr>\n",
       "    <tr>\n",
       "      <th>48373563</th>\n",
       "      <td> b7815dbb206eb2831ce0fe040d0aa537e2e800f7</td>\n",
       "      <td> SOOENDM12A6D2281CB</td>\n",
       "      <td> 1</td>\n",
       "    </tr>\n",
       "    <tr>\n",
       "      <th>48373564</th>\n",
       "      <td> b7815dbb206eb2831ce0fe040d0aa537e2e800f7</td>\n",
       "      <td> SOOFYTN12A6D4F9B35</td>\n",
       "      <td> 4</td>\n",
       "    </tr>\n",
       "    <tr>\n",
       "      <th>48373566</th>\n",
       "      <td> b7815dbb206eb2831ce0fe040d0aa537e2e800f7</td>\n",
       "      <td> SOPCTBB12AF72A1B64</td>\n",
       "      <td> 1</td>\n",
       "    </tr>\n",
       "    <tr>\n",
       "      <th>48373567</th>\n",
       "      <td> b7815dbb206eb2831ce0fe040d0aa537e2e800f7</td>\n",
       "      <td> SOPJLFV12A6701C797</td>\n",
       "      <td> 1</td>\n",
       "    </tr>\n",
       "    <tr>\n",
       "      <th>48373568</th>\n",
       "      <td> b7815dbb206eb2831ce0fe040d0aa537e2e800f7</td>\n",
       "      <td> SOPUELG12A6701D215</td>\n",
       "      <td> 1</td>\n",
       "    </tr>\n",
       "    <tr>\n",
       "      <th>48373569</th>\n",
       "      <td> b7815dbb206eb2831ce0fe040d0aa537e2e800f7</td>\n",
       "      <td> SOQBOWE12A8C13CC2E</td>\n",
       "      <td> 1</td>\n",
       "    </tr>\n",
       "    <tr>\n",
       "      <th>48373570</th>\n",
       "      <td> b7815dbb206eb2831ce0fe040d0aa537e2e800f7</td>\n",
       "      <td> SORFHOZ12A6701E129</td>\n",
       "      <td> 1</td>\n",
       "    </tr>\n",
       "    <tr>\n",
       "      <th>48373571</th>\n",
       "      <td> b7815dbb206eb2831ce0fe040d0aa537e2e800f7</td>\n",
       "      <td> SORPVUD12A67020454</td>\n",
       "      <td> 1</td>\n",
       "    </tr>\n",
       "    <tr>\n",
       "      <th>48373572</th>\n",
       "      <td> b7815dbb206eb2831ce0fe040d0aa537e2e800f7</td>\n",
       "      <td> SOSCPOI12A8C139F02</td>\n",
       "      <td> 1</td>\n",
       "    </tr>\n",
       "    <tr>\n",
       "      <th>48373573</th>\n",
       "      <td> b7815dbb206eb2831ce0fe040d0aa537e2e800f7</td>\n",
       "      <td> SOSKDTM12A6701C795</td>\n",
       "      <td> 1</td>\n",
       "    </tr>\n",
       "    <tr>\n",
       "      <th>48373574</th>\n",
       "      <td> b7815dbb206eb2831ce0fe040d0aa537e2e800f7</td>\n",
       "      <td> SOSQJWM12A6D4F79E0</td>\n",
       "      <td> 6</td>\n",
       "    </tr>\n",
       "    <tr>\n",
       "      <th>48373576</th>\n",
       "      <td> b7815dbb206eb2831ce0fe040d0aa537e2e800f7</td>\n",
       "      <td> SOTFOAE12A6D4F4511</td>\n",
       "      <td> 2</td>\n",
       "    </tr>\n",
       "    <tr>\n",
       "      <th>48373577</th>\n",
       "      <td> b7815dbb206eb2831ce0fe040d0aa537e2e800f7</td>\n",
       "      <td> SOTIXTZ12AF72A39AC</td>\n",
       "      <td> 1</td>\n",
       "    </tr>\n",
       "    <tr>\n",
       "      <th>48373579</th>\n",
       "      <td> b7815dbb206eb2831ce0fe040d0aa537e2e800f7</td>\n",
       "      <td> SOTULEI12A58A7CB72</td>\n",
       "      <td> 1</td>\n",
       "    </tr>\n",
       "    <tr>\n",
       "      <th>48373580</th>\n",
       "      <td> b7815dbb206eb2831ce0fe040d0aa537e2e800f7</td>\n",
       "      <td> SOTYMDI12A6D4F867D</td>\n",
       "      <td> 1</td>\n",
       "    </tr>\n",
       "    <tr>\n",
       "      <th>48373581</th>\n",
       "      <td> b7815dbb206eb2831ce0fe040d0aa537e2e800f7</td>\n",
       "      <td> SOUHHHH12AF729E4AF</td>\n",
       "      <td> 2</td>\n",
       "    </tr>\n",
       "    <tr>\n",
       "      <th>48373582</th>\n",
       "      <td> b7815dbb206eb2831ce0fe040d0aa537e2e800f7</td>\n",
       "      <td> SOUJVIT12A8C1451C1</td>\n",
       "      <td> 1</td>\n",
       "    </tr>\n",
       "    <tr>\n",
       "      <th>48373583</th>\n",
       "      <td> b7815dbb206eb2831ce0fe040d0aa537e2e800f7</td>\n",
       "      <td> SOUSMXX12AB0185C24</td>\n",
       "      <td> 1</td>\n",
       "    </tr>\n",
       "    <tr>\n",
       "      <th>48373584</th>\n",
       "      <td> b7815dbb206eb2831ce0fe040d0aa537e2e800f7</td>\n",
       "      <td> SOWYSKH12AF72A303A</td>\n",
       "      <td> 3</td>\n",
       "    </tr>\n",
       "    <tr>\n",
       "      <th>48373585</th>\n",
       "      <td> b7815dbb206eb2831ce0fe040d0aa537e2e800f7</td>\n",
       "      <td> SOYYFLV12A58A7A88F</td>\n",
       "      <td> 1</td>\n",
       "    </tr>\n",
       "  </tbody>\n",
       "</table>\n",
       "<p>36304189 rows × 3 columns</p>\n",
       "</div>"
      ],
      "text/plain": [
       "                                               uid                 sid  count\n",
       "0         b80344d063b5ccb3212f76538f3d9e43d87dca9e  SOAKIMP12A8C130995      1\n",
       "1         b80344d063b5ccb3212f76538f3d9e43d87dca9e  SOAPDEY12A81C210A9      1\n",
       "2         b80344d063b5ccb3212f76538f3d9e43d87dca9e  SOBBMDR12A8C13253B      2\n",
       "4         b80344d063b5ccb3212f76538f3d9e43d87dca9e  SOBFOVM12A58A7D494      1\n",
       "6         b80344d063b5ccb3212f76538f3d9e43d87dca9e  SOBSUJE12A6D4F8CF5      2\n",
       "7         b80344d063b5ccb3212f76538f3d9e43d87dca9e  SOBVFZR12A6D4F8AE3      1\n",
       "8         b80344d063b5ccb3212f76538f3d9e43d87dca9e  SOBXALG12A8C13C108      1\n",
       "10        b80344d063b5ccb3212f76538f3d9e43d87dca9e  SOBYHAJ12A6701BF1D      1\n",
       "11        b80344d063b5ccb3212f76538f3d9e43d87dca9e  SOCNMUH12A6D4F6E6D      1\n",
       "12        b80344d063b5ccb3212f76538f3d9e43d87dca9e  SODACBL12A8C13C273      1\n",
       "13        b80344d063b5ccb3212f76538f3d9e43d87dca9e  SODDNQT12A6D4F5F7E      5\n",
       "14        b80344d063b5ccb3212f76538f3d9e43d87dca9e  SODXRTY12AB0180F3B      1\n",
       "15        b80344d063b5ccb3212f76538f3d9e43d87dca9e  SODZWFT12A8C13C0E4      1\n",
       "16        b80344d063b5ccb3212f76538f3d9e43d87dca9e  SOEGVZY12A58A7857E      1\n",
       "18        b80344d063b5ccb3212f76538f3d9e43d87dca9e  SOEOBYG12A6D4F8AE2      1\n",
       "19        b80344d063b5ccb3212f76538f3d9e43d87dca9e  SOEWFWM12A8C1308BA      1\n",
       "20        b80344d063b5ccb3212f76538f3d9e43d87dca9e  SOFFJPX12A6D4F7456      1\n",
       "21        b80344d063b5ccb3212f76538f3d9e43d87dca9e  SOFGUAY12AB017B0A8      1\n",
       "22        b80344d063b5ccb3212f76538f3d9e43d87dca9e  SOFRQTD12A81C233C0      1\n",
       "24        b80344d063b5ccb3212f76538f3d9e43d87dca9e  SOFZFQU12A8C13CAB8      1\n",
       "25        b80344d063b5ccb3212f76538f3d9e43d87dca9e  SOGJAOS12A6D4F7459      1\n",
       "26        b80344d063b5ccb3212f76538f3d9e43d87dca9e  SOHQIAG12A8C136F64      1\n",
       "27        b80344d063b5ccb3212f76538f3d9e43d87dca9e  SOHQWYZ12A6D4FA701      1\n",
       "28        b80344d063b5ccb3212f76538f3d9e43d87dca9e  SOHQZCA12A6D4FB317      1\n",
       "29        b80344d063b5ccb3212f76538f3d9e43d87dca9e  SOIAOBY12A8C13BF75      1\n",
       "30        b80344d063b5ccb3212f76538f3d9e43d87dca9e  SOIQOQT12A8C136F96      1\n",
       "31        b80344d063b5ccb3212f76538f3d9e43d87dca9e  SOISWBZ12A8C13C0F7      1\n",
       "32        b80344d063b5ccb3212f76538f3d9e43d87dca9e  SOIYTOA12A6D4F9A23      1\n",
       "33        b80344d063b5ccb3212f76538f3d9e43d87dca9e  SOIZAZL12A6701C53B      5\n",
       "34        b80344d063b5ccb3212f76538f3d9e43d87dca9e  SOJNNUA12A8AE48C7A      1\n",
       "...                                            ...                 ...    ...\n",
       "48373552  b7815dbb206eb2831ce0fe040d0aa537e2e800f7  SOHHKGO12AC3DF57BF      1\n",
       "48373553  b7815dbb206eb2831ce0fe040d0aa537e2e800f7  SOHLLRP12A6701F2F4      1\n",
       "48373554  b7815dbb206eb2831ce0fe040d0aa537e2e800f7  SOHMACD12A6D4F9582      1\n",
       "48373555  b7815dbb206eb2831ce0fe040d0aa537e2e800f7  SOHYSXA12AB0186704      1\n",
       "48373556  b7815dbb206eb2831ce0fe040d0aa537e2e800f7  SOIBAQJ12AB0182643      1\n",
       "48373557  b7815dbb206eb2831ce0fe040d0aa537e2e800f7  SOJGZXL12A6D4F2980      1\n",
       "48373558  b7815dbb206eb2831ce0fe040d0aa537e2e800f7  SOJZZQW12A6702028B      1\n",
       "48373560  b7815dbb206eb2831ce0fe040d0aa537e2e800f7  SOMAKIT12A58A7E292      1\n",
       "48373561  b7815dbb206eb2831ce0fe040d0aa537e2e800f7  SONWLIS12A8C140865      2\n",
       "48373562  b7815dbb206eb2831ce0fe040d0aa537e2e800f7  SOOAAGD12AB017BCDA      1\n",
       "48373563  b7815dbb206eb2831ce0fe040d0aa537e2e800f7  SOOENDM12A6D2281CB      1\n",
       "48373564  b7815dbb206eb2831ce0fe040d0aa537e2e800f7  SOOFYTN12A6D4F9B35      4\n",
       "48373566  b7815dbb206eb2831ce0fe040d0aa537e2e800f7  SOPCTBB12AF72A1B64      1\n",
       "48373567  b7815dbb206eb2831ce0fe040d0aa537e2e800f7  SOPJLFV12A6701C797      1\n",
       "48373568  b7815dbb206eb2831ce0fe040d0aa537e2e800f7  SOPUELG12A6701D215      1\n",
       "48373569  b7815dbb206eb2831ce0fe040d0aa537e2e800f7  SOQBOWE12A8C13CC2E      1\n",
       "48373570  b7815dbb206eb2831ce0fe040d0aa537e2e800f7  SORFHOZ12A6701E129      1\n",
       "48373571  b7815dbb206eb2831ce0fe040d0aa537e2e800f7  SORPVUD12A67020454      1\n",
       "48373572  b7815dbb206eb2831ce0fe040d0aa537e2e800f7  SOSCPOI12A8C139F02      1\n",
       "48373573  b7815dbb206eb2831ce0fe040d0aa537e2e800f7  SOSKDTM12A6701C795      1\n",
       "48373574  b7815dbb206eb2831ce0fe040d0aa537e2e800f7  SOSQJWM12A6D4F79E0      6\n",
       "48373576  b7815dbb206eb2831ce0fe040d0aa537e2e800f7  SOTFOAE12A6D4F4511      2\n",
       "48373577  b7815dbb206eb2831ce0fe040d0aa537e2e800f7  SOTIXTZ12AF72A39AC      1\n",
       "48373579  b7815dbb206eb2831ce0fe040d0aa537e2e800f7  SOTULEI12A58A7CB72      1\n",
       "48373580  b7815dbb206eb2831ce0fe040d0aa537e2e800f7  SOTYMDI12A6D4F867D      1\n",
       "48373581  b7815dbb206eb2831ce0fe040d0aa537e2e800f7  SOUHHHH12AF729E4AF      2\n",
       "48373582  b7815dbb206eb2831ce0fe040d0aa537e2e800f7  SOUJVIT12A8C1451C1      1\n",
       "48373583  b7815dbb206eb2831ce0fe040d0aa537e2e800f7  SOUSMXX12AB0185C24      1\n",
       "48373584  b7815dbb206eb2831ce0fe040d0aa537e2e800f7  SOWYSKH12AF72A303A      3\n",
       "48373585  b7815dbb206eb2831ce0fe040d0aa537e2e800f7  SOYYFLV12A58A7A88F      1\n",
       "\n",
       "[36304189 rows x 3 columns]"
      ]
     },
     "execution_count": 33,
     "metadata": {},
     "output_type": "execute_result"
    }
   ],
   "source": [
    "in_tp = tp[~tp['sid'].isin(out_sid)]\n",
    "in_tp"
   ]
  },
  {
   "cell_type": "markdown",
   "metadata": {},
   "source": [
    "## Generate train/test/vad sets"
   ]
  },
  {
   "cell_type": "markdown",
   "metadata": {},
   "source": [
    "Pick out 20% of the rating for in-matrix prediction"
   ]
  },
  {
   "cell_type": "code",
   "execution_count": 34,
   "metadata": {
    "collapsed": false
   },
   "outputs": [],
   "source": [
    "np.random.seed(12345)\n",
    "n_ratings = in_tp.shape[0]\n",
    "test = np.random.choice(n_ratings, size=int(0.20 * n_ratings), replace=False)"
   ]
  },
  {
   "cell_type": "code",
   "execution_count": 35,
   "metadata": {
    "collapsed": true
   },
   "outputs": [],
   "source": [
    "test_idx = np.zeros(n_ratings, dtype=bool)\n",
    "test_idx[test] = True\n",
    "\n",
    "test_tp = in_tp[test_idx]\n",
    "train_tp = in_tp[~test_idx]"
   ]
  },
  {
   "cell_type": "markdown",
   "metadata": {},
   "source": [
    "Make sure there is no empty row or column in the training data"
   ]
  },
  {
   "cell_type": "code",
   "execution_count": 36,
   "metadata": {
    "collapsed": false
   },
   "outputs": [
    {
     "name": "stdout",
     "output_type": "stream",
     "text": [
      "613682\n",
      "613682\n"
     ]
    }
   ],
   "source": [
    "print len(pd.unique(train_tp['uid']))\n",
    "print len(pd.unique(in_tp['uid']))"
   ]
  },
  {
   "cell_type": "code",
   "execution_count": 37,
   "metadata": {
    "collapsed": false
   },
   "outputs": [
    {
     "name": "stdout",
     "output_type": "stream",
     "text": [
      "92543\n",
      "92543\n"
     ]
    }
   ],
   "source": [
    "print len(pd.unique(train_tp['sid']))\n",
    "print len(pd.unique(in_tp['sid']))"
   ]
  },
  {
   "cell_type": "markdown",
   "metadata": {},
   "source": [
    "Pick out 10% of the training rating as validation set"
   ]
  },
  {
   "cell_type": "code",
   "execution_count": 38,
   "metadata": {
    "collapsed": false
   },
   "outputs": [],
   "source": [
    "np.random.seed(13579)\n",
    "n_ratings = train_tp.shape[0]\n",
    "vad = np.random.choice(n_ratings, size=int(0.10 * n_ratings), replace=False)"
   ]
  },
  {
   "cell_type": "code",
   "execution_count": 39,
   "metadata": {
    "collapsed": false
   },
   "outputs": [],
   "source": [
    "vad_idx = np.zeros(n_ratings, dtype=bool)\n",
    "vad_idx[vad] = True\n",
    "\n",
    "vad_tp = train_tp[vad_idx]\n",
    "train_tp = train_tp[~vad_idx]"
   ]
  },
  {
   "cell_type": "code",
   "execution_count": 40,
   "metadata": {
    "collapsed": false
   },
   "outputs": [
    {
     "name": "stdout",
     "output_type": "stream",
     "text": [
      "613682\n",
      "613682\n"
     ]
    }
   ],
   "source": [
    "print len(pd.unique(train_tp['uid']))\n",
    "print len(pd.unique(in_tp['uid']))"
   ]
  },
  {
   "cell_type": "code",
   "execution_count": 41,
   "metadata": {
    "collapsed": false
   },
   "outputs": [
    {
     "name": "stdout",
     "output_type": "stream",
     "text": [
      "92543\n",
      "92543\n"
     ]
    }
   ],
   "source": [
    "print len(pd.unique(train_tp['sid']))\n",
    "print len(pd.unique(in_tp['sid']))"
   ]
  },
  {
   "cell_type": "code",
   "execution_count": 42,
   "metadata": {
    "collapsed": false
   },
   "outputs": [],
   "source": [
    "test_tp.to_csv('in.test.csv', index=False)"
   ]
  },
  {
   "cell_type": "code",
   "execution_count": 43,
   "metadata": {
    "collapsed": false
   },
   "outputs": [],
   "source": [
    "train_tp.to_csv('in.train.csv', index=False)"
   ]
  },
  {
   "cell_type": "code",
   "execution_count": 44,
   "metadata": {
    "collapsed": false
   },
   "outputs": [],
   "source": [
    "vad_tp.to_csv('in.vad.csv', index=False)"
   ]
  },
  {
   "cell_type": "code",
   "execution_count": 45,
   "metadata": {
    "collapsed": true
   },
   "outputs": [],
   "source": [
    "out_tp.to_csv('out.test.csv', index=False)"
   ]
  },
  {
   "cell_type": "code",
   "execution_count": null,
   "metadata": {
    "collapsed": true
   },
   "outputs": [],
   "source": []
  }
 ],
 "metadata": {
  "kernelspec": {
   "display_name": "Python 2",
   "language": "python",
   "name": "python2"
  },
  "language_info": {
   "codemirror_mode": {
    "name": "ipython",
    "version": 2
   },
   "file_extension": ".py",
   "mimetype": "text/x-python",
   "name": "python",
   "nbconvert_exporter": "python",
   "pygments_lexer": "ipython2",
   "version": "2.7.6"
  }
 },
 "nbformat": 4,
 "nbformat_minor": 0
}
