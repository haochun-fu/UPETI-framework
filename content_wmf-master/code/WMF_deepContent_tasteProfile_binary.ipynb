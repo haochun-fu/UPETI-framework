{
 "cells": [
  {
   "cell_type": "markdown",
   "metadata": {},
   "source": [
    "# Fit content-aware matrix factorization to the binarized taste profile dataset"
   ]
  },
  {
   "cell_type": "code",
   "execution_count": 1,
   "metadata": {
    "collapsed": false
   },
   "outputs": [],
   "source": [
    "import os\n",
    "os.environ['OMP_NUM_THREADS'] = '1'\n",
    "\n",
    "import numpy as np\n",
    "import scipy.sparse\n",
    "import pandas as pd"
   ]
  },
  {
   "cell_type": "code",
   "execution_count": 2,
   "metadata": {
    "collapsed": false
   },
   "outputs": [],
   "source": [
    "import content_wmf\n",
    "import batched_inv_joblib"
   ]
  },
  {
   "cell_type": "code",
   "execution_count": 3,
   "metadata": {
    "collapsed": false
   },
   "outputs": [],
   "source": [
    "unique_uid = list()\n",
    "with open('unique_uid.txt', 'r') as f:\n",
    "    for line in f:\n",
    "        unique_uid.append(line.strip())\n",
    "    \n",
    "unique_sid = list()\n",
    "with open('unique_sid.txt', 'r') as f:\n",
    "    for line in f:\n",
    "        unique_sid.append(line.strip())"
   ]
  },
  {
   "cell_type": "code",
   "execution_count": 4,
   "metadata": {
    "collapsed": false
   },
   "outputs": [
    {
     "name": "stdout",
     "output_type": "stream",
     "text": [
      "613682 97414\n"
     ]
    }
   ],
   "source": [
    "n_songs = len(unique_sid)\n",
    "n_users = len(unique_uid)\n",
    "\n",
    "print n_users, n_songs"
   ]
  },
  {
   "cell_type": "code",
   "execution_count": 5,
   "metadata": {
    "collapsed": false
   },
   "outputs": [
    {
     "name": "stdout",
     "output_type": "stream",
     "text": [
      "92543\n"
     ]
    }
   ],
   "source": [
    "# the last 5% of the songs are in the out-matrix set\n",
    "n_songs = int(0.95 * n_songs)\n",
    "print n_songs"
   ]
  },
  {
   "cell_type": "markdown",
   "metadata": {},
   "source": [
    "### Load the data and train the model"
   ]
  },
  {
   "cell_type": "code",
   "execution_count": 6,
   "metadata": {
    "collapsed": false
   },
   "outputs": [],
   "source": [
    "def load_data(csv_file, shape=(n_users, n_songs)):\n",
    "    tp = pd.read_csv(csv_file)\n",
    "    rows, cols = np.array(tp['uid'], dtype=np.int32), np.array(tp['sid'], dtype=np.int32)\n",
    "    count = tp['count']\n",
    "    return scipy.sparse.csr_matrix((count,(rows, cols)), dtype=np.int16, shape=shape), rows, cols"
   ]
  },
  {
   "cell_type": "code",
   "execution_count": 7,
   "metadata": {
    "collapsed": false
   },
   "outputs": [],
   "source": [
    "train_data, rows, cols = load_data('in.train.num.csv')\n",
    "# binarize the data\n",
    "train_data.data = np.ones_like(train_data.data)"
   ]
  },
  {
   "cell_type": "code",
   "execution_count": 8,
   "metadata": {
    "collapsed": false
   },
   "outputs": [
    {
     "name": "stdout",
     "output_type": "stream",
     "text": [
      "(613682, 92543)\n",
      "(26139017,)\n"
     ]
    }
   ],
   "source": [
    "print train_data.shape\n",
    "print train_data.data.shape"
   ]
  },
  {
   "cell_type": "code",
   "execution_count": 9,
   "metadata": {
    "collapsed": false
   },
   "outputs": [
    {
     "name": "stdout",
     "output_type": "stream",
     "text": [
      "(613682, 92543)\n",
      "(2904335,)\n"
     ]
    }
   ],
   "source": [
    "vad_data, rows_vad, cols_vad = load_data('in.vad.num.csv')\n",
    "# binarize the data\n",
    "vad_data.data = np.ones_like(vad_data.data)\n",
    "print vad_data.shape\n",
    "print vad_data.data.shape"
   ]
  },
  {
   "cell_type": "code",
   "execution_count": 10,
   "metadata": {
    "collapsed": true
   },
   "outputs": [],
   "source": [
    "vad = dict(X_new=vad_data.data,\n",
    "           rows_new=rows_vad,\n",
    "           cols_new=cols_vad)"
   ]
  },
  {
   "cell_type": "code",
   "execution_count": 11,
   "metadata": {
    "collapsed": false
   },
   "outputs": [
    {
     "name": "stdout",
     "output_type": "stream",
     "text": [
      "(613682, 92543)\n",
      "(7260837,)\n"
     ]
    }
   ],
   "source": [
    "test_data, rows_test, cols_test = load_data('in.test.num.csv')\n",
    "# binarize the data\n",
    "test_data.data = np.ones_like(test_data.data)\n",
    "print test_data.shape\n",
    "print test_data.data.shape"
   ]
  },
  {
   "cell_type": "code",
   "execution_count": 12,
   "metadata": {
    "collapsed": true
   },
   "outputs": [],
   "source": [
    "# the output of the neural network for both in and out-of-matrix songs\n",
    "H_in_out = np.load('H_in_out.npz')"
   ]
  },
  {
   "cell_type": "code",
   "execution_count": 13,
   "metadata": {
    "collapsed": true
   },
   "outputs": [],
   "source": [
    "H_in = H_in_out['H_in']\n",
    "H_out = H_in_out['H_out']"
   ]
  },
  {
   "cell_type": "code",
   "execution_count": 14,
   "metadata": {
    "collapsed": false
   },
   "outputs": [],
   "source": [
    "S = content_wmf.log_surplus_confidence_matrix(train_data, alpha=2.0, epsilon=1e-6)"
   ]
  },
  {
   "cell_type": "code",
   "execution_count": 15,
   "metadata": {
    "collapsed": false
   },
   "outputs": [],
   "source": [
    "num_factors = 100\n",
    "num_iters = 10\n",
    "batch_size = 10000"
   ]
  },
  {
   "cell_type": "code",
   "execution_count": 16,
   "metadata": {
    "collapsed": true
   },
   "outputs": [],
   "source": [
    "lambda_U_reg = 1e-4 \n",
    "lambda_V_reg = 1e-4\n",
    "lambda_W_reg = 1e-4"
   ]
  },
  {
   "cell_type": "code",
   "execution_count": 17,
   "metadata": {
    "collapsed": false
   },
   "outputs": [
    {
     "name": "stdout",
     "output_type": "stream",
     "text": [
      "0.0001 0.0001\n"
     ]
    }
   ],
   "source": [
    "print lambda_U_reg, lambda_V_reg"
   ]
  },
  {
   "cell_type": "code",
   "execution_count": 18,
   "metadata": {
    "collapsed": false
   },
   "outputs": [
    {
     "name": "stdout",
     "output_type": "stream",
     "text": [
      "precompute S^T and X^TX (if necessary)\n",
      "  took 11.837 seconds\n",
      "run ALS algorithm\n",
      "Iteration 0:\n",
      "\tUpdating item factors: time=20.47\n",
      "\tUpdating user factors: time=40.14\n",
      "\tPred likeli: 0.82855\n",
      "\tUpdating projection matrix: time=1.11\n",
      "Iteration 1:\n",
      "\tUpdating item factors: time=22.05\n",
      "\tUpdating user factors: time=44.46\n",
      "\tPred likeli: 0.59025\n",
      "\tUpdating projection matrix: time=1.10\n",
      "Iteration 2:\n",
      "\tUpdating item factors: time=21.81\n",
      "\tUpdating user factors: time=43.88\n",
      "\tPred likeli: 0.54313\n",
      "\tUpdating projection matrix: time=1.14\n",
      "Iteration 3:\n",
      "\tUpdating item factors: time=22.18\n",
      "\tUpdating user factors: time=41.79\n",
      "\tPred likeli: 0.52659\n",
      "\tUpdating projection matrix: time=1.19\n",
      "Iteration 4:\n",
      "\tUpdating item factors: time=22.24\n",
      "\tUpdating user factors: time=44.61\n",
      "\tPred likeli: 0.51889\n",
      "\tUpdating projection matrix: time=1.15\n",
      "Iteration 5:\n",
      "\tUpdating item factors: time=21.17\n",
      "\tUpdating user factors: time=45.89\n",
      "\tPred likeli: 0.51465\n",
      "\tUpdating projection matrix: time=1.19\n",
      "Iteration 6:\n",
      "\tUpdating item factors: time=21.84\n",
      "\tUpdating user factors: time=44.20\n",
      "\tPred likeli: 0.51206\n",
      "\tUpdating projection matrix: time=1.15\n",
      "Iteration 7:\n",
      "\tUpdating item factors: time=21.74\n",
      "\tUpdating user factors: time=44.33\n",
      "\tPred likeli: 0.51035\n",
      "\tUpdating projection matrix: time=1.19\n",
      "Iteration 8:\n",
      "\tUpdating item factors: time=21.27\n",
      "\tUpdating user factors: time=43.69\n",
      "\tPred likeli: 0.50916\n",
      "\tUpdating projection matrix: time=1.20\n",
      "Iteration 9:\n",
      "\tUpdating item factors: time=21.79\n",
      "\tUpdating user factors: time=44.81\n",
      "\tPred likeli: 0.50828\n",
      "\tUpdating projection matrix: time=1.14\n"
     ]
    }
   ],
   "source": [
    "U, V, W = content_wmf.factorize(S, num_factors, X=H_in, vad=vad, num_iters=num_iters, init_std=0.01, \n",
    "                                lambda_U_reg=lambda_U_reg, lambda_V_reg=lambda_V_reg, lambda_W_reg=lambda_W_reg, \n",
    "                                dtype='float32', random_state=98765, verbose=True, \n",
    "                                recompute_factors=batched_inv_joblib.recompute_factors_batched, \n",
    "                                batch_size=batch_size, n_jobs=10)"
   ]
  },
  {
   "cell_type": "code",
   "execution_count": 19,
   "metadata": {
    "collapsed": false
   },
   "outputs": [
    {
     "name": "stdout",
     "output_type": "stream",
     "text": [
      "(613682, 100) (92543, 100) (1201, 100)\n"
     ]
    }
   ],
   "source": [
    "print U.shape, V.shape, W.shape"
   ]
  },
  {
   "cell_type": "code",
   "execution_count": null,
   "metadata": {
    "collapsed": true
   },
   "outputs": [],
   "source": [
    "np.savez('params_deep_wmf_K%d_U%1.E_V%1.E_W%1.E.unpop.npz' % \n",
    "         (num_factors, lambda_U_reg, lambda_V_reg, lambda_W_reg), U=U, V=V, W=W)"
   ]
  }
 ],
 "metadata": {
  "kernelspec": {
   "display_name": "Python 2",
   "language": "python",
   "name": "python2"
  },
  "language_info": {
   "codemirror_mode": {
    "name": "ipython",
    "version": 2
   },
   "file_extension": ".py",
   "mimetype": "text/x-python",
   "name": "python",
   "nbconvert_exporter": "python",
   "pygments_lexer": "ipython2",
   "version": "2.7.6"
  }
 },
 "nbformat": 4,
 "nbformat_minor": 0
}
